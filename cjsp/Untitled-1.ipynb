{
 "cells": [
  {
   "cell_type": "code",
   "execution_count": 1,
   "metadata": {},
   "outputs": [
    {
     "name": "stdout",
     "output_type": "stream",
     "text": [
      "El nombresi con correo hola se registró exitosamente\n"
     ]
    }
   ],
   "source": [
    "import tkinter as tk\n",
    "from tkinter import messagebox\n",
    "from PIL import Image, ImageTk  # Para manejar imágenes\n",
    "\n",
    "# Función para el botón \"Registrarse\"\n",
    "def registrar():\n",
    "    nombre = entry_nombre.get()\n",
    "    correo = entry_correo.get()\n",
    "    contraseña = entry_contraseña.get()\n",
    "    print(f\"El nombre{nombre} con correo {correo} se registró exitosamente\")\n",
    "    messagebox.showinfo(\"Registro Exitoso\", f\"Nombre: {nombre}\\nCorreo: {correo}\\nContraseña: {contraseña}\")\n",
    "\n",
    "# Función para el botón \"Cancelar\"\n",
    "def cancelar():\n",
    "    ventana.destroy()\n",
    "\n",
    "# Crear la ventana principal\n",
    "ventana = tk.Tk()\n",
    "ventana.title(\"Formulario de Registro\")\n",
    "ventana.geometry(\"400x600\")\n",
    "\n",
    "# Cargar la imagen\n",
    "imagen = Image.open(\"images.jpg\")\n",
    "imagen = imagen.resize((400, 200))  # Redimensionar si es necesario\n",
    "imagen_tk = ImageTk.PhotoImage(imagen) \n",
    "\n",
    "label_imagen = tk.Label(ventana, image=imagen_tk)\n",
    "label_imagen.pack(pady=20) \n",
    "\n",
    "# Etiqueta y campo de entrada para el nombre\n",
    "label_nombre = tk.Label(ventana, text=\"Nombre:\")\n",
    "label_nombre.pack(pady=5)\n",
    "entry_nombre = tk.Entry(ventana)\n",
    "entry_nombre.pack(pady=5)\n",
    "\n",
    "# Etiqueta y campo de entrada para el correo electrónico\n",
    "label_correo = tk.Label(ventana, text=\"Correo electrónico:\")\n",
    "label_correo.pack(pady=5)\n",
    "entry_correo = tk.Entry(ventana)\n",
    "entry_correo.pack(pady=5)\n",
    "\n",
    "# Etiqueta y campo de entrada para la contraseña\n",
    "label_contraseña = tk.Label(ventana, text=\"Contraseña:\")\n",
    "label_contraseña.pack(pady=5)\n",
    "entry_contraseña = tk.Entry(ventana, show=\"*\")  # Ocultar la contraseña\n",
    "entry_contraseña.pack(pady=5)\n",
    "\n",
    "# Botones\n",
    "boton_registrar = tk.Button(ventana, text=\"Registrarse\", command=registrar)\n",
    "boton_registrar.pack(pady=10)\n",
    "\n",
    "boton_cancelar = tk.Button(ventana, text=\"Cancelar\", command=cancelar)\n",
    "boton_cancelar.pack(pady=10)\n",
    "\n",
    "# Ejecutar la ventana\n",
    "ventana.mainloop()"
   ]
  },
  {
   "cell_type": "code",
   "execution_count": 2,
   "metadata": {},
   "outputs": [],
   "source": [
    "import tkinter as tk\n",
    "from tkinter import messagebox\n",
    "\n",
    "# Función para mostrar el estado del Checkbutton\n",
    "def mostrar_estado():\n",
    "    if var.get() == 1:\n",
    "        messagebox.showinfo(\"Estado\", \"Checkbutton seleccionado\")\n",
    "    else:\n",
    "        messagebox.showinfo(\"Estado\", \"Checkbutton no seleccionado\")\n",
    "\n",
    "\n",
    "root = tk.Tk()\n",
    "root.title(\"Ejemplo de Checkbutton\")\n",
    "\n",
    "# Variable para almacenar el estado del Checkbutton\n",
    "var = tk.IntVar()\n",
    "\n",
    "# Crear el Checkbutton\n",
    "checkbutton = tk.Checkbutton(root, text=\"Seleccionar opción\", variable=var)\n",
    "checkbutton.pack(pady=10)\n",
    "\n",
    "# Crear un botón para mostrar el estado\n",
    "boton = tk.Button(root, text=\"Mostrar estado\", command=mostrar_estado)\n",
    "boton.pack(pady=10)\n",
    "\n",
    "# Iniciar el bucle principal de la ventana\n",
    "root.mainloop()"
   ]
  }
 ],
 "metadata": {
  "kernelspec": {
   "display_name": "Python 3",
   "language": "python",
   "name": "python3"
  },
  "language_info": {
   "codemirror_mode": {
    "name": "ipython",
    "version": 3
   },
   "file_extension": ".py",
   "mimetype": "text/x-python",
   "name": "python",
   "nbconvert_exporter": "python",
   "pygments_lexer": "ipython3",
   "version": "3.13.1"
  }
 },
 "nbformat": 4,
 "nbformat_minor": 2
}
